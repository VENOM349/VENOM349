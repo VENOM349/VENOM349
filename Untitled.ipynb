{
 "cells": [
  {
   "cell_type": "code",
   "execution_count": 1,
   "id": "ef388c61",
   "metadata": {},
   "outputs": [],
   "source": [
    "# string # numeric\n",
    "# alphanumeric #Decimal numbers\n",
    "# float"
   ]
  },
  {
   "cell_type": "code",
   "execution_count": 2,
   "id": "0ac75132",
   "metadata": {},
   "outputs": [
    {
     "data": {
      "text/plain": [
       "'s'"
      ]
     },
     "execution_count": 2,
     "metadata": {},
     "output_type": "execute_result"
    }
   ],
   "source": [
    "'s'or\"s\""
   ]
  },
  {
   "cell_type": "code",
   "execution_count": 3,
   "id": "a6a19b40",
   "metadata": {},
   "outputs": [
    {
     "name": "stdout",
     "output_type": "stream",
     "text": [
      "hamza\n"
     ]
    }
   ],
   "source": [
    "print(\"hamza\")"
   ]
  },
  {
   "cell_type": "code",
   "execution_count": 4,
   "id": "c45124e2",
   "metadata": {},
   "outputs": [
    {
     "name": "stdout",
     "output_type": "stream",
     "text": [
      "12\n"
     ]
    }
   ],
   "source": [
    "print(12)"
   ]
  },
  {
   "cell_type": "code",
   "execution_count": 5,
   "id": "6932f49f",
   "metadata": {},
   "outputs": [
    {
     "name": "stdout",
     "output_type": "stream",
     "text": [
      "20.02\n"
     ]
    }
   ],
   "source": [
    "print(20.02)"
   ]
  },
  {
   "cell_type": "code",
   "execution_count": 6,
   "id": "21213cf9",
   "metadata": {},
   "outputs": [
    {
     "data": {
      "text/plain": [
       "str"
      ]
     },
     "execution_count": 6,
     "metadata": {},
     "output_type": "execute_result"
    }
   ],
   "source": [
    "type(\"Hamza\")"
   ]
  },
  {
   "cell_type": "code",
   "execution_count": 7,
   "id": "151b0270",
   "metadata": {},
   "outputs": [
    {
     "data": {
      "text/plain": [
       "int"
      ]
     },
     "execution_count": 7,
     "metadata": {},
     "output_type": "execute_result"
    }
   ],
   "source": [
    "type(20)"
   ]
  },
  {
   "cell_type": "code",
   "execution_count": 8,
   "id": "0b6ac002",
   "metadata": {},
   "outputs": [
    {
     "data": {
      "text/plain": [
       "float"
      ]
     },
     "execution_count": 8,
     "metadata": {},
     "output_type": "execute_result"
    }
   ],
   "source": [
    "type(0.02)"
   ]
  },
  {
   "cell_type": "code",
   "execution_count": 9,
   "id": "061075f9",
   "metadata": {},
   "outputs": [],
   "source": [
    "name = 'hamza'"
   ]
  },
  {
   "cell_type": "code",
   "execution_count": 10,
   "id": "424c72dc",
   "metadata": {},
   "outputs": [
    {
     "data": {
      "text/plain": [
       "'hamza'"
      ]
     },
     "execution_count": 10,
     "metadata": {},
     "output_type": "execute_result"
    }
   ],
   "source": [
    "name"
   ]
  },
  {
   "cell_type": "code",
   "execution_count": 43,
   "id": "f1a631db",
   "metadata": {},
   "outputs": [],
   "source": [
    "age = 15"
   ]
  },
  {
   "cell_type": "code",
   "execution_count": 44,
   "id": "fb41bcba",
   "metadata": {},
   "outputs": [
    {
     "data": {
      "text/plain": [
       "15"
      ]
     },
     "execution_count": 44,
     "metadata": {},
     "output_type": "execute_result"
    }
   ],
   "source": [
    "age"
   ]
  },
  {
   "cell_type": "code",
   "execution_count": 45,
   "id": "8002ce6d",
   "metadata": {},
   "outputs": [
    {
     "data": {
      "text/plain": [
       "int"
      ]
     },
     "execution_count": 45,
     "metadata": {},
     "output_type": "execute_result"
    }
   ],
   "source": [
    "type(age)"
   ]
  },
  {
   "cell_type": "code",
   "execution_count": 46,
   "id": "8a8b99da",
   "metadata": {},
   "outputs": [
    {
     "data": {
      "text/plain": [
       "20"
      ]
     },
     "execution_count": 46,
     "metadata": {},
     "output_type": "execute_result"
    }
   ],
   "source": [
    "age + 5"
   ]
  },
  {
   "cell_type": "code",
   "execution_count": 47,
   "id": "181d8287",
   "metadata": {},
   "outputs": [],
   "source": [
    "age = age + 5"
   ]
  },
  {
   "cell_type": "code",
   "execution_count": 48,
   "id": "e13a84b6",
   "metadata": {},
   "outputs": [
    {
     "data": {
      "text/plain": [
       "20"
      ]
     },
     "execution_count": 48,
     "metadata": {},
     "output_type": "execute_result"
    }
   ],
   "source": [
    "age"
   ]
  },
  {
   "cell_type": "code",
   "execution_count": 49,
   "id": "f56dc2a2",
   "metadata": {},
   "outputs": [],
   "source": [
    "age = age - 5"
   ]
  },
  {
   "cell_type": "code",
   "execution_count": 50,
   "id": "3594d31f",
   "metadata": {},
   "outputs": [
    {
     "data": {
      "text/plain": [
       "15"
      ]
     },
     "execution_count": 50,
     "metadata": {},
     "output_type": "execute_result"
    }
   ],
   "source": [
    "age"
   ]
  },
  {
   "cell_type": "code",
   "execution_count": 51,
   "id": "713db212",
   "metadata": {},
   "outputs": [],
   "source": [
    "age = age / 5"
   ]
  },
  {
   "cell_type": "code",
   "execution_count": 52,
   "id": "6c6a3c09",
   "metadata": {},
   "outputs": [
    {
     "data": {
      "text/plain": [
       "3.0"
      ]
     },
     "execution_count": 52,
     "metadata": {},
     "output_type": "execute_result"
    }
   ],
   "source": [
    "age"
   ]
  },
  {
   "cell_type": "code",
   "execution_count": 53,
   "id": "66e38a5c",
   "metadata": {},
   "outputs": [],
   "source": [
    "age = age * 5"
   ]
  },
  {
   "cell_type": "code",
   "execution_count": 54,
   "id": "5e7f0c0f",
   "metadata": {},
   "outputs": [
    {
     "data": {
      "text/plain": [
       "15.0"
      ]
     },
     "execution_count": 54,
     "metadata": {},
     "output_type": "execute_result"
    }
   ],
   "source": [
    "age"
   ]
  },
  {
   "cell_type": "code",
   "execution_count": 55,
   "id": "0494c7d6",
   "metadata": {},
   "outputs": [
    {
     "data": {
      "text/plain": [
       "float"
      ]
     },
     "execution_count": 55,
     "metadata": {},
     "output_type": "execute_result"
    }
   ],
   "source": [
    "type(age)"
   ]
  },
  {
   "cell_type": "code",
   "execution_count": 56,
   "id": "a2712268",
   "metadata": {},
   "outputs": [],
   "source": [
    "rose = 'flower'"
   ]
  },
  {
   "cell_type": "code",
   "execution_count": 57,
   "id": "ef965c38",
   "metadata": {},
   "outputs": [
    {
     "data": {
      "text/plain": [
       "'flower'"
      ]
     },
     "execution_count": 57,
     "metadata": {},
     "output_type": "execute_result"
    }
   ],
   "source": [
    "rose"
   ]
  },
  {
   "cell_type": "code",
   "execution_count": 58,
   "id": "90d8dbf7",
   "metadata": {},
   "outputs": [],
   "source": [
    "num = 10"
   ]
  },
  {
   "cell_type": "code",
   "execution_count": 60,
   "id": "3147dada",
   "metadata": {},
   "outputs": [
    {
     "data": {
      "text/plain": [
       "2"
      ]
     },
     "execution_count": 60,
     "metadata": {},
     "output_type": "execute_result"
    }
   ],
   "source": [
    "whats_left = num % 4\n",
    "whats_left"
   ]
  },
  {
   "cell_type": "code",
   "execution_count": 61,
   "id": "2897cc83",
   "metadata": {},
   "outputs": [],
   "source": [
    "num = 20"
   ]
  },
  {
   "cell_type": "code",
   "execution_count": 62,
   "id": "30991704",
   "metadata": {},
   "outputs": [],
   "source": [
    "num = num - 5"
   ]
  },
  {
   "cell_type": "code",
   "execution_count": 63,
   "id": "226c929a",
   "metadata": {},
   "outputs": [
    {
     "data": {
      "text/plain": [
       "15"
      ]
     },
     "execution_count": 63,
     "metadata": {},
     "output_type": "execute_result"
    }
   ],
   "source": [
    "num"
   ]
  },
  {
   "cell_type": "code",
   "execution_count": 64,
   "id": "80d17c19",
   "metadata": {},
   "outputs": [],
   "source": [
    "num += 5"
   ]
  },
  {
   "cell_type": "code",
   "execution_count": 65,
   "id": "facd4cf7",
   "metadata": {},
   "outputs": [
    {
     "data": {
      "text/plain": [
       "20"
      ]
     },
     "execution_count": 65,
     "metadata": {},
     "output_type": "execute_result"
    }
   ],
   "source": [
    "num"
   ]
  },
  {
   "cell_type": "code",
   "execution_count": 66,
   "id": "91cf8a86",
   "metadata": {},
   "outputs": [],
   "source": [
    "num -= 5"
   ]
  },
  {
   "cell_type": "code",
   "execution_count": 67,
   "id": "ef2ffb47",
   "metadata": {},
   "outputs": [
    {
     "data": {
      "text/plain": [
       "15"
      ]
     },
     "execution_count": 67,
     "metadata": {},
     "output_type": "execute_result"
    }
   ],
   "source": [
    "num"
   ]
  },
  {
   "cell_type": "code",
   "execution_count": 68,
   "id": "21db5cb6",
   "metadata": {},
   "outputs": [],
   "source": [
    "num *= 5"
   ]
  },
  {
   "cell_type": "code",
   "execution_count": 69,
   "id": "4dda8292",
   "metadata": {},
   "outputs": [
    {
     "data": {
      "text/plain": [
       "75"
      ]
     },
     "execution_count": 69,
     "metadata": {},
     "output_type": "execute_result"
    }
   ],
   "source": [
    "num"
   ]
  },
  {
   "cell_type": "code",
   "execution_count": 70,
   "id": "9fcbba06",
   "metadata": {},
   "outputs": [],
   "source": [
    "num /= 5"
   ]
  },
  {
   "cell_type": "code",
   "execution_count": 71,
   "id": "36686ee9",
   "metadata": {},
   "outputs": [
    {
     "data": {
      "text/plain": [
       "15.0"
      ]
     },
     "execution_count": 71,
     "metadata": {},
     "output_type": "execute_result"
    }
   ],
   "source": [
    "num"
   ]
  },
  {
   "cell_type": "code",
   "execution_count": 72,
   "id": "09dcc8a8",
   "metadata": {},
   "outputs": [],
   "source": [
    "cost = 1 + 3 * 4"
   ]
  },
  {
   "cell_type": "code",
   "execution_count": 73,
   "id": "cc8954dc",
   "metadata": {},
   "outputs": [
    {
     "data": {
      "text/plain": [
       "13"
      ]
     },
     "execution_count": 73,
     "metadata": {},
     "output_type": "execute_result"
    }
   ],
   "source": [
    "cost"
   ]
  },
  {
   "cell_type": "code",
   "execution_count": 74,
   "id": "864b2fbd",
   "metadata": {},
   "outputs": [],
   "source": [
    "cost = 1 + ( 3 * 4 )"
   ]
  },
  {
   "cell_type": "code",
   "execution_count": 75,
   "id": "3396a43f",
   "metadata": {},
   "outputs": [
    {
     "data": {
      "text/plain": [
       "13"
      ]
     },
     "execution_count": 75,
     "metadata": {},
     "output_type": "execute_result"
    }
   ],
   "source": [
    "cost"
   ]
  },
  {
   "cell_type": "code",
   "execution_count": 76,
   "id": "f943d099",
   "metadata": {},
   "outputs": [],
   "source": [
    "cost = 1 + 3 / 2 + 2"
   ]
  },
  {
   "cell_type": "code",
   "execution_count": 77,
   "id": "667ef2e5",
   "metadata": {},
   "outputs": [
    {
     "data": {
      "text/plain": [
       "4.5"
      ]
     },
     "execution_count": 77,
     "metadata": {},
     "output_type": "execute_result"
    }
   ],
   "source": [
    "cost"
   ]
  },
  {
   "cell_type": "code",
   "execution_count": 78,
   "id": "28c6fe63",
   "metadata": {},
   "outputs": [],
   "source": [
    "cost = 1 + 3 / 2 * ( 2 * 4 )"
   ]
  },
  {
   "cell_type": "code",
   "execution_count": 79,
   "id": "ecea3a65",
   "metadata": {},
   "outputs": [
    {
     "data": {
      "text/plain": [
       "13.0"
      ]
     },
     "execution_count": 79,
     "metadata": {},
     "output_type": "execute_result"
    }
   ],
   "source": [
    "cost"
   ]
  },
  {
   "cell_type": "code",
   "execution_count": 80,
   "id": "399b17ce",
   "metadata": {},
   "outputs": [],
   "source": [
    "cost = 1 + 3 // 2 * ( 2 * 4 )"
   ]
  },
  {
   "cell_type": "code",
   "execution_count": 81,
   "id": "7daee332",
   "metadata": {},
   "outputs": [
    {
     "data": {
      "text/plain": [
       "9"
      ]
     },
     "execution_count": 81,
     "metadata": {},
     "output_type": "execute_result"
    }
   ],
   "source": [
    "cost"
   ]
  },
  {
   "cell_type": "code",
   "execution_count": 82,
   "id": "63f24dd9",
   "metadata": {},
   "outputs": [
    {
     "data": {
      "text/plain": [
       "int"
      ]
     },
     "execution_count": 82,
     "metadata": {},
     "output_type": "execute_result"
    }
   ],
   "source": [
    "type(cost)"
   ]
  },
  {
   "cell_type": "code",
   "execution_count": null,
   "id": "dd79af09",
   "metadata": {},
   "outputs": [],
   "source": []
  }
 ],
 "metadata": {
  "kernelspec": {
   "display_name": "Python 3 (ipykernel)",
   "language": "python",
   "name": "python3"
  },
  "language_info": {
   "codemirror_mode": {
    "name": "ipython",
    "version": 3
   },
   "file_extension": ".py",
   "mimetype": "text/x-python",
   "name": "python",
   "nbconvert_exporter": "python",
   "pygments_lexer": "ipython3",
   "version": "3.9.12"
  }
 },
 "nbformat": 4,
 "nbformat_minor": 5
}
